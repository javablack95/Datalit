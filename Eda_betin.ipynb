{
  "nbformat": 4,
  "nbformat_minor": 0,
  "metadata": {
    "colab": {
      "name": "Eda betin",
      "version": "0.3.2",
      "provenance": [],
      "include_colab_link": true
    },
    "kernelspec": {
      "name": "python3",
      "display_name": "Python 3"
    }
  },
  "cells": [
    {
      "cell_type": "markdown",
      "metadata": {
        "id": "view-in-github",
        "colab_type": "text"
      },
      "source": [
        "<a href=\"https://colab.research.google.com/github/javablack95/Datalit/blob/master/Eda_betin.ipynb\" target=\"_parent\"><img src=\"https://colab.research.google.com/assets/colab-badge.svg\" alt=\"Open In Colab\"/></a>"
      ]
    },
    {
      "metadata": {
        "id": "hYHGj37yD5pB",
        "colab_type": "text"
      },
      "cell_type": "markdown",
      "source": [
        "# Genesis\n",
        "This is the start of the betin league analysis. The objectives of this section is to \n",
        "ingest data\n",
        "\n",
        "1.   Ingest data\n",
        "2.   Organise data for ED analysis\n",
        "3.   Access the relationship of odds and results"
      ]
    },
    {
      "metadata": {
        "id": "jbr1GFJ8VsdO",
        "colab_type": "code",
        "colab": {
          "base_uri": "https://localhost:8080/",
          "height": 51
        },
        "outputId": "0cf37a95-a13e-47a4-f7c0-b766a453dddf"
      },
      "cell_type": "code",
      "source": [
        "!pip install -U -q PyDrive\n",
        "import os\n",
        "from pydrive.auth import GoogleAuth\n",
        "from pydrive.drive import GoogleDrive\n",
        "from google.colab import auth\n",
        "from oauth2client.client import GoogleCredentials\n",
        "\n",
        "\n",
        "\n",
        "\n"
      ],
      "execution_count": 1,
      "outputs": [
        {
          "output_type": "stream",
          "text": [
            "\u001b[?25l\r\u001b[K    1% |▎                               | 10kB 18.4MB/s eta 0:00:01\r\u001b[K    2% |▋                               | 20kB 3.5MB/s eta 0:00:01\r\u001b[K    3% |█                               | 30kB 5.1MB/s eta 0:00:01\r\u001b[K    4% |█▎                              | 40kB 3.2MB/s eta 0:00:01\r\u001b[K    5% |█▋                              | 51kB 3.9MB/s eta 0:00:01\r\u001b[K    6% |██                              | 61kB 4.6MB/s eta 0:00:01\r\u001b[K    7% |██▎                             | 71kB 5.3MB/s eta 0:00:01\r\u001b[K    8% |██▋                             | 81kB 5.9MB/s eta 0:00:01\r\u001b[K    9% |███                             | 92kB 6.6MB/s eta 0:00:01\r\u001b[K    10% |███▎                            | 102kB 5.2MB/s eta 0:00:01\r\u001b[K    11% |███▋                            | 112kB 5.2MB/s eta 0:00:01\r\u001b[K    12% |████                            | 122kB 7.0MB/s eta 0:00:01\r\u001b[K    13% |████▎                           | 133kB 7.0MB/s eta 0:00:01\r\u001b[K    14% |████▋                           | 143kB 12.7MB/s eta 0:00:01\r\u001b[K    15% |█████                           | 153kB 12.9MB/s eta 0:00:01\r\u001b[K    16% |█████▎                          | 163kB 12.9MB/s eta 0:00:01\r\u001b[K    17% |█████▋                          | 174kB 13.1MB/s eta 0:00:01\r\u001b[K    18% |██████                          | 184kB 13.2MB/s eta 0:00:01\r\u001b[K    19% |██████▎                         | 194kB 13.3MB/s eta 0:00:01\r\u001b[K    20% |██████▋                         | 204kB 43.1MB/s eta 0:00:01\r\u001b[K    21% |███████                         | 215kB 15.5MB/s eta 0:00:01\r\u001b[K    22% |███████▎                        | 225kB 15.4MB/s eta 0:00:01\r\u001b[K    23% |███████▋                        | 235kB 15.7MB/s eta 0:00:01\r\u001b[K    24% |████████                        | 245kB 15.7MB/s eta 0:00:01\r\u001b[K    25% |████████▎                       | 256kB 15.7MB/s eta 0:00:01\r\u001b[K    26% |████████▋                       | 266kB 15.0MB/s eta 0:00:01\r\u001b[K    27% |█████████                       | 276kB 15.1MB/s eta 0:00:01\r\u001b[K    29% |█████████▎                      | 286kB 15.2MB/s eta 0:00:01\r\u001b[K    30% |█████████▋                      | 296kB 15.1MB/s eta 0:00:01\r\u001b[K    31% |██████████                      | 307kB 15.9MB/s eta 0:00:01\r\u001b[K    32% |██████████▎                     | 317kB 49.9MB/s eta 0:00:01\r\u001b[K    33% |██████████▋                     | 327kB 50.6MB/s eta 0:00:01\r\u001b[K    34% |███████████                     | 337kB 51.7MB/s eta 0:00:01\r\u001b[K    35% |███████████▎                    | 348kB 45.3MB/s eta 0:00:01\r\u001b[K    36% |███████████▋                    | 358kB 45.7MB/s eta 0:00:01\r\u001b[K    37% |████████████                    | 368kB 53.1MB/s eta 0:00:01\r\u001b[K    38% |████████████▎                   | 378kB 53.2MB/s eta 0:00:01\r\u001b[K    39% |████████████▋                   | 389kB 53.7MB/s eta 0:00:01\r\u001b[K    40% |█████████████                   | 399kB 19.8MB/s eta 0:00:01\r\u001b[K    41% |█████████████▎                  | 409kB 19.5MB/s eta 0:00:01\r\u001b[K    42% |█████████████▋                  | 419kB 19.4MB/s eta 0:00:01\r\u001b[K    43% |██████████████                  | 430kB 19.5MB/s eta 0:00:01\r\u001b[K    44% |██████████████▎                 | 440kB 19.5MB/s eta 0:00:01\r\u001b[K    45% |██████████████▋                 | 450kB 19.9MB/s eta 0:00:01\r\u001b[K    46% |███████████████                 | 460kB 19.8MB/s eta 0:00:01\r\u001b[K    47% |███████████████▎                | 471kB 19.9MB/s eta 0:00:01\r\u001b[K    48% |███████████████▋                | 481kB 19.8MB/s eta 0:00:01\r\u001b[K    49% |████████████████                | 491kB 19.8MB/s eta 0:00:01\r\u001b[K    50% |████████████████▎               | 501kB 54.1MB/s eta 0:00:01\r\u001b[K    51% |████████████████▋               | 512kB 50.8MB/s eta 0:00:01\r\u001b[K    52% |█████████████████               | 522kB 52.3MB/s eta 0:00:01\r\u001b[K    53% |█████████████████▎              | 532kB 53.1MB/s eta 0:00:01\r\u001b[K    54% |█████████████████▋              | 542kB 16.5MB/s eta 0:00:01\r\u001b[K    55% |██████████████████              | 552kB 16.8MB/s eta 0:00:01\r\u001b[K    57% |██████████████████▎             | 563kB 16.8MB/s eta 0:00:01\r\u001b[K    58% |██████████████████▋             | 573kB 16.6MB/s eta 0:00:01\r\u001b[K    59% |███████████████████             | 583kB 16.4MB/s eta 0:00:01\r\u001b[K    60% |███████████████████▎            | 593kB 16.2MB/s eta 0:00:01\r\u001b[K    61% |███████████████████▋            | 604kB 16.2MB/s eta 0:00:01\r\u001b[K    62% |████████████████████            | 614kB 16.7MB/s eta 0:00:01\r\u001b[K    63% |████████████████████▎           | 624kB 16.6MB/s eta 0:00:01\r\u001b[K    64% |████████████████████▋           | 634kB 16.5MB/s eta 0:00:01\r\u001b[K    65% |█████████████████████           | 645kB 52.8MB/s eta 0:00:01\r\u001b[K    66% |█████████████████████▎          | 655kB 54.2MB/s eta 0:00:01\r\u001b[K    67% |█████████████████████▋          | 665kB 42.5MB/s eta 0:00:01\r\u001b[K    68% |██████████████████████          | 675kB 43.4MB/s eta 0:00:01\r\u001b[K    69% |██████████████████████▎         | 686kB 45.6MB/s eta 0:00:01\r\u001b[K    70% |██████████████████████▋         | 696kB 46.8MB/s eta 0:00:01\r\u001b[K    71% |███████████████████████         | 706kB 46.8MB/s eta 0:00:01\r\u001b[K    72% |███████████████████████▎        | 716kB 47.1MB/s eta 0:00:01\r\u001b[K    73% |███████████████████████▋        | 727kB 47.4MB/s eta 0:00:01\r\u001b[K    74% |████████████████████████        | 737kB 46.8MB/s eta 0:00:01\r\u001b[K    75% |████████████████████████▎       | 747kB 47.2MB/s eta 0:00:01\r\u001b[K    76% |████████████████████████▋       | 757kB 47.3MB/s eta 0:00:01\r\u001b[K    77% |████████████████████████▉       | 768kB 63.3MB/s eta 0:00:01\r\u001b[K    78% |█████████████████████████▏      | 778kB 63.8MB/s eta 0:00:01\r\u001b[K    79% |█████████████████████████▌      | 788kB 62.6MB/s eta 0:00:01\r\u001b[K    80% |█████████████████████████▉      | 798kB 61.7MB/s eta 0:00:01\r\u001b[K    81% |██████████████████████████▏     | 808kB 61.0MB/s eta 0:00:01\r\u001b[K    82% |██████████████████████████▌     | 819kB 59.7MB/s eta 0:00:01\r\u001b[K    83% |██████████████████████████▉     | 829kB 60.2MB/s eta 0:00:01\r\u001b[K    85% |███████████████████████████▏    | 839kB 61.0MB/s eta 0:00:01\r\u001b[K    86% |███████████████████████████▌    | 849kB 61.6MB/s eta 0:00:01\r\u001b[K    87% |███████████████████████████▉    | 860kB 52.1MB/s eta 0:00:01\r\u001b[K    88% |████████████████████████████▏   | 870kB 51.6MB/s eta 0:00:01\r\u001b[K    89% |████████████████████████████▌   | 880kB 52.7MB/s eta 0:00:01\r\u001b[K    90% |████████████████████████████▉   | 890kB 53.2MB/s eta 0:00:01\r\u001b[K    91% |█████████████████████████████▏  | 901kB 53.4MB/s eta 0:00:01\r\u001b[K    92% |█████████████████████████████▌  | 911kB 53.9MB/s eta 0:00:01\r\u001b[K    93% |█████████████████████████████▉  | 921kB 54.4MB/s eta 0:00:01\r\u001b[K    94% |██████████████████████████████▏ | 931kB 54.4MB/s eta 0:00:01\r\u001b[K    95% |██████████████████████████████▌ | 942kB 54.6MB/s eta 0:00:01\r\u001b[K    96% |██████████████████████████████▉ | 952kB 54.1MB/s eta 0:00:01\r\u001b[K    97% |███████████████████████████████▏| 962kB 65.4MB/s eta 0:00:01\r\u001b[K    98% |███████████████████████████████▌| 972kB 65.1MB/s eta 0:00:01\r\u001b[K    99% |███████████████████████████████▉| 983kB 63.5MB/s eta 0:00:01\r\u001b[K    100% |████████████████████████████████| 993kB 20.4MB/s \n",
            "\u001b[?25h  Building wheel for PyDrive (setup.py) ... \u001b[?25ldone\n",
            "\u001b[?25h"
          ],
          "name": "stdout"
        }
      ]
    },
    {
      "metadata": {
        "id": "l80U64fMYMWI",
        "colab_type": "code",
        "colab": {}
      },
      "cell_type": "code",
      "source": [
        "from google.colab import drive"
      ],
      "execution_count": 0,
      "outputs": []
    },
    {
      "metadata": {
        "id": "SNbpjVCIYP2p",
        "colab_type": "code",
        "colab": {
          "base_uri": "https://localhost:8080/",
          "height": 122
        },
        "outputId": "e500d90e-530e-462c-eeb1-6108371407b4"
      },
      "cell_type": "code",
      "source": [
        "drive.mount('/content/drive')"
      ],
      "execution_count": 5,
      "outputs": [
        {
          "output_type": "stream",
          "text": [
            "Go to this URL in a browser: https://accounts.google.com/o/oauth2/auth?client_id=947318989803-6bn6qk8qdgf4n4g3pfee6491hc0brc4i.apps.googleusercontent.com&redirect_uri=urn%3Aietf%3Awg%3Aoauth%3A2.0%3Aoob&scope=email%20https%3A%2F%2Fwww.googleapis.com%2Fauth%2Fdocs.test%20https%3A%2F%2Fwww.googleapis.com%2Fauth%2Fdrive%20https%3A%2F%2Fwww.googleapis.com%2Fauth%2Fdrive.photos.readonly%20https%3A%2F%2Fwww.googleapis.com%2Fauth%2Fpeopleapi.readonly&response_type=code\n",
            "\n",
            "Enter your authorization code:\n",
            "··········\n",
            "Mounted at /content/drive\n"
          ],
          "name": "stdout"
        }
      ]
    },
    {
      "metadata": {
        "id": "2D60YwBIY2wF",
        "colab_type": "code",
        "colab": {
          "base_uri": "https://localhost:8080/",
          "height": 273
        },
        "outputId": "0d07e0a9-119a-4b5d-dc5a-517fe9bfc66a"
      },
      "cell_type": "code",
      "source": [
        "!ls \"/content/drive/My Drive\""
      ],
      "execution_count": 6,
      "outputs": [
        {
          "output_type": "stream",
          "text": [
            "'Altmans z score.gdoc'\t\t\t'Global Macro Strategy.gdoc'\n",
            " artificial_intel\t\t\t'graphs question 3.gsheet'\n",
            " betin_league\t\t\t\t'Hedge Funds.gdoc'\n",
            "'Betin league Research Questions.gdoc'\t'House price bullish trend.gdoc'\n",
            " Classroom\t\t\t\t'House price vs GDP.gsheet'\n",
            " coffee_data\t\t\t\t'JAVA FINAL REPORT 401'\n",
            " Coherence.gdoc\t\t\t\t'mercy ID.pdf'\n",
            " colab\t\t\t\t\t MIT_Intro_to_DL\n",
            "'Colab Notebooks'\t\t\t'MRYA 3.xlsx'\n",
            "'CV javis.doc'\t\t\t\t MyfirstApp\n",
            " data\t\t\t\t\t posts\n",
            "'Data Analysis.gdoc'\t\t\t'Uk data.gsheet'\n",
            "'DataLit!!!!'\t\t\t\t'Untitled document.gdoc'\n",
            " fastai\t\t\t\t\t'Weekly Scrum.gdoc'\n",
            "'FINAL JAVIS 401 REPORT.docx'\n"
          ],
          "name": "stdout"
        }
      ]
    },
    {
      "metadata": {
        "id": "ZChhQ8jWZIPC",
        "colab_type": "code",
        "colab": {
          "base_uri": "https://localhost:8080/",
          "height": 34
        },
        "outputId": "620d7fba-c526-4e9c-c723-cda108343db7"
      },
      "cell_type": "code",
      "source": [
        "cwd =os.getcwd()\n",
        "cwd"
      ],
      "execution_count": 7,
      "outputs": [
        {
          "output_type": "execute_result",
          "data": {
            "text/plain": [
              "'/content'"
            ]
          },
          "metadata": {
            "tags": []
          },
          "execution_count": 7
        }
      ]
    },
    {
      "metadata": {
        "id": "j-e34Gy6ZOXp",
        "colab_type": "code",
        "colab": {}
      },
      "cell_type": "code",
      "source": [
        "!cp -r \"/content/drive/My Drive/betin_league\" \"/content/\""
      ],
      "execution_count": 0,
      "outputs": []
    },
    {
      "metadata": {
        "id": "5iGyUPDLZjCn",
        "colab_type": "code",
        "colab": {
          "base_uri": "https://localhost:8080/",
          "height": 34
        },
        "outputId": "ceb138bd-d09f-4137-e044-57110295716d"
      },
      "cell_type": "code",
      "source": [
        "%cd betin_league"
      ],
      "execution_count": 9,
      "outputs": [
        {
          "output_type": "stream",
          "text": [
            "/content/betin_league\n"
          ],
          "name": "stdout"
        }
      ]
    },
    {
      "metadata": {
        "id": "MAJ9jb5tZzFX",
        "colab_type": "code",
        "colab": {
          "base_uri": "https://localhost:8080/",
          "height": 34
        },
        "outputId": "1f830bba-804e-484e-d86f-9708f5971850"
      },
      "cell_type": "code",
      "source": [
        "!ls"
      ],
      "execution_count": 10,
      "outputs": [
        {
          "output_type": "stream",
          "text": [
            "correct_score  odds  results\n"
          ],
          "name": "stdout"
        }
      ]
    },
    {
      "metadata": {
        "id": "nrZ0hR3aZ0qD",
        "colab_type": "code",
        "colab": {
          "base_uri": "https://localhost:8080/",
          "height": 34
        },
        "outputId": "5c267193-996c-4225-a412-1bf9269e8521"
      },
      "cell_type": "code",
      "source": [
        "import pandas as pd\n",
        "%cd results/\n",
        "\n",
        "# pd.read_csv(results)"
      ],
      "execution_count": 13,
      "outputs": [
        {
          "output_type": "stream",
          "text": [
            "/content/betin_league/results\n"
          ],
          "name": "stdout"
        }
      ]
    },
    {
      "metadata": {
        "id": "uFtIzsxta8Ik",
        "colab_type": "code",
        "colab": {
          "base_uri": "https://localhost:8080/",
          "height": 34
        },
        "outputId": "6cc7d303-88ce-41f9-9371-a569df815541"
      },
      "cell_type": "code",
      "source": [
        "!ls"
      ],
      "execution_count": 14,
      "outputs": [
        {
          "output_type": "stream",
          "text": [
            "results_1.csv\n"
          ],
          "name": "stdout"
        }
      ]
    },
    {
      "metadata": {
        "id": "JaRf4dLwbLEG",
        "colab_type": "code",
        "colab": {}
      },
      "cell_type": "code",
      "source": [
        "results_phase1 = pd.read_csv('results_1.csv')"
      ],
      "execution_count": 0,
      "outputs": []
    },
    {
      "metadata": {
        "id": "Nlfvd_JCbO01",
        "colab_type": "code",
        "colab": {
          "base_uri": "https://localhost:8080/",
          "height": 226
        },
        "outputId": "48acbfec-3929-4137-c765-8417f6796107"
      },
      "cell_type": "code",
      "source": [
        "results_phase1.head()"
      ],
      "execution_count": 20,
      "outputs": [
        {
          "output_type": "execute_result",
          "data": {
            "text/html": [
              "<div>\n",
              "<style scoped>\n",
              "    .dataframe tbody tr th:only-of-type {\n",
              "        vertical-align: middle;\n",
              "    }\n",
              "\n",
              "    .dataframe tbody tr th {\n",
              "        vertical-align: top;\n",
              "    }\n",
              "\n",
              "    .dataframe thead th {\n",
              "        text-align: right;\n",
              "    }\n",
              "</style>\n",
              "<table border=\"1\" class=\"dataframe\">\n",
              "  <thead>\n",
              "    <tr style=\"text-align: right;\">\n",
              "      <th></th>\n",
              "      <th>Unnamed: 0</th>\n",
              "      <th>WEEK  1</th>\n",
              "      <th>WEEK  2</th>\n",
              "      <th>WEEK  3</th>\n",
              "      <th>WEEK  4</th>\n",
              "      <th>WEEK  5</th>\n",
              "      <th>WEEK  6</th>\n",
              "      <th>WEEK  7</th>\n",
              "      <th>WEEK  8</th>\n",
              "      <th>WEEK  9</th>\n",
              "      <th>...</th>\n",
              "      <th>WEEK  15</th>\n",
              "      <th>WEEK  16</th>\n",
              "      <th>WEEK  17</th>\n",
              "      <th>WEEK  18</th>\n",
              "      <th>WEEK  19</th>\n",
              "      <th>WEEK  20</th>\n",
              "      <th>WEEK  21</th>\n",
              "      <th>WEEK  22</th>\n",
              "      <th>WEEK  23</th>\n",
              "      <th>WEEK  24</th>\n",
              "    </tr>\n",
              "  </thead>\n",
              "  <tbody>\n",
              "    <tr>\n",
              "      <th>0</th>\n",
              "      <td>team1</td>\n",
              "      <td>HUD</td>\n",
              "      <td>ARS</td>\n",
              "      <td>SOU</td>\n",
              "      <td>NWC</td>\n",
              "      <td>WHU</td>\n",
              "      <td>FUL</td>\n",
              "      <td>CAR</td>\n",
              "      <td>WAT</td>\n",
              "      <td>CAR</td>\n",
              "      <td>...</td>\n",
              "      <td>MNC</td>\n",
              "      <td>LIV</td>\n",
              "      <td>TOT</td>\n",
              "      <td>MNU</td>\n",
              "      <td>HUD</td>\n",
              "      <td>BUR</td>\n",
              "      <td>CAR</td>\n",
              "      <td>WAT</td>\n",
              "      <td>CHE</td>\n",
              "      <td>EVE</td>\n",
              "    </tr>\n",
              "    <tr>\n",
              "      <th>1</th>\n",
              "      <td>result</td>\n",
              "      <td>2-3</td>\n",
              "      <td>3-2</td>\n",
              "      <td>4-1</td>\n",
              "      <td>2-1</td>\n",
              "      <td>1-0</td>\n",
              "      <td>1-0</td>\n",
              "      <td>1-1</td>\n",
              "      <td>0-0</td>\n",
              "      <td>0-2</td>\n",
              "      <td>...</td>\n",
              "      <td>2-0</td>\n",
              "      <td>6-0</td>\n",
              "      <td>2-2</td>\n",
              "      <td>1-2</td>\n",
              "      <td>0-1</td>\n",
              "      <td>1-1</td>\n",
              "      <td>0-0</td>\n",
              "      <td>0-0</td>\n",
              "      <td>3-0</td>\n",
              "      <td>1-0</td>\n",
              "    </tr>\n",
              "    <tr>\n",
              "      <th>2</th>\n",
              "      <td>team2</td>\n",
              "      <td>SOU</td>\n",
              "      <td>MNU</td>\n",
              "      <td>MNC</td>\n",
              "      <td>WHU</td>\n",
              "      <td>EVE</td>\n",
              "      <td>BRI</td>\n",
              "      <td>WHU</td>\n",
              "      <td>MNU</td>\n",
              "      <td>EVE</td>\n",
              "      <td>...</td>\n",
              "      <td>WOL</td>\n",
              "      <td>HUD</td>\n",
              "      <td>CAR</td>\n",
              "      <td>SOU</td>\n",
              "      <td>EVE</td>\n",
              "      <td>NWC</td>\n",
              "      <td>FUL</td>\n",
              "      <td>WHU</td>\n",
              "      <td>BOU</td>\n",
              "      <td>WHU</td>\n",
              "    </tr>\n",
              "    <tr>\n",
              "      <th>3</th>\n",
              "      <td>team1</td>\n",
              "      <td>WHU</td>\n",
              "      <td>FUL</td>\n",
              "      <td>LIV</td>\n",
              "      <td>ARS</td>\n",
              "      <td>LIV</td>\n",
              "      <td>WHU</td>\n",
              "      <td>MNC</td>\n",
              "      <td>CRY</td>\n",
              "      <td>BRI</td>\n",
              "      <td>...</td>\n",
              "      <td>TOT</td>\n",
              "      <td>WOL</td>\n",
              "      <td>ARS</td>\n",
              "      <td>CAR</td>\n",
              "      <td>BUR</td>\n",
              "      <td>ARS</td>\n",
              "      <td>MNU</td>\n",
              "      <td>ARS</td>\n",
              "      <td>SOU</td>\n",
              "      <td>BOU</td>\n",
              "    </tr>\n",
              "    <tr>\n",
              "      <th>4</th>\n",
              "      <td>result</td>\n",
              "      <td>0-0</td>\n",
              "      <td>5-1</td>\n",
              "      <td>3-3</td>\n",
              "      <td>1-0</td>\n",
              "      <td>2-1</td>\n",
              "      <td>4-0</td>\n",
              "      <td>3-2</td>\n",
              "      <td>1-3</td>\n",
              "      <td>3-0</td>\n",
              "      <td>...</td>\n",
              "      <td>1-2</td>\n",
              "      <td>2-2</td>\n",
              "      <td>2-2</td>\n",
              "      <td>0-1</td>\n",
              "      <td>3-0</td>\n",
              "      <td>3-2</td>\n",
              "      <td>2-3</td>\n",
              "      <td>2-1</td>\n",
              "      <td>2-1</td>\n",
              "      <td>0-4</td>\n",
              "    </tr>\n",
              "  </tbody>\n",
              "</table>\n",
              "<p>5 rows × 25 columns</p>\n",
              "</div>"
            ],
            "text/plain": [
              "  Unnamed: 0 WEEK  1 WEEK  2 WEEK  3 WEEK  4 WEEK  5 WEEK  6 WEEK  7 WEEK  8  \\\n",
              "0      team1     HUD     ARS     SOU     NWC     WHU     FUL     CAR     WAT   \n",
              "1     result     2-3     3-2     4-1     2-1     1-0     1-0     1-1     0-0   \n",
              "2      team2     SOU     MNU     MNC     WHU     EVE     BRI     WHU     MNU   \n",
              "3      team1     WHU     FUL     LIV     ARS     LIV     WHU     MNC     CRY   \n",
              "4     result     0-0     5-1     3-3     1-0     2-1     4-0     3-2     1-3   \n",
              "\n",
              "  WEEK  9  ... WEEK  15 WEEK  16 WEEK  17 WEEK  18 WEEK  19 WEEK  20 WEEK  21  \\\n",
              "0     CAR  ...      MNC      LIV      TOT      MNU      HUD      BUR      CAR   \n",
              "1     0-2  ...      2-0      6-0      2-2      1-2      0-1      1-1      0-0   \n",
              "2     EVE  ...      WOL      HUD      CAR      SOU      EVE      NWC      FUL   \n",
              "3     BRI  ...      TOT      WOL      ARS      CAR      BUR      ARS      MNU   \n",
              "4     3-0  ...      1-2      2-2      2-2      0-1      3-0      3-2      2-3   \n",
              "\n",
              "  WEEK  22 WEEK  23 WEEK  24  \n",
              "0      WAT      CHE      EVE  \n",
              "1      0-0      3-0      1-0  \n",
              "2      WHU      BOU      WHU  \n",
              "3      ARS      SOU      BOU  \n",
              "4      2-1      2-1      0-4  \n",
              "\n",
              "[5 rows x 25 columns]"
            ]
          },
          "metadata": {
            "tags": []
          },
          "execution_count": 20
        }
      ]
    },
    {
      "metadata": {
        "id": "ck4SsSekb2jK",
        "colab_type": "code",
        "colab": {
          "base_uri": "https://localhost:8080/",
          "height": 34
        },
        "outputId": "3ed44595-3eb7-42f7-993c-ee25471e9525"
      },
      "cell_type": "code",
      "source": [
        "%cd .."
      ],
      "execution_count": 21,
      "outputs": [
        {
          "output_type": "stream",
          "text": [
            "/content/betin_league\n"
          ],
          "name": "stdout"
        }
      ]
    },
    {
      "metadata": {
        "id": "8jpcidScb9sm",
        "colab_type": "code",
        "colab": {
          "base_uri": "https://localhost:8080/",
          "height": 34
        },
        "outputId": "712f3c61-7a0d-4c0c-dfff-d8fd3d1cea3f"
      },
      "cell_type": "code",
      "source": [
        "!ls"
      ],
      "execution_count": 22,
      "outputs": [
        {
          "output_type": "stream",
          "text": [
            "correct_score  odds  results\n"
          ],
          "name": "stdout"
        }
      ]
    },
    {
      "metadata": {
        "id": "KLK7BokQcAwc",
        "colab_type": "code",
        "colab": {
          "base_uri": "https://localhost:8080/",
          "height": 34
        },
        "outputId": "fb9fc744-aafb-47e4-b727-8bb7b10279cd"
      },
      "cell_type": "code",
      "source": [
        "%cd odds/"
      ],
      "execution_count": 26,
      "outputs": [
        {
          "output_type": "stream",
          "text": [
            "/content/betin_league/odds\n"
          ],
          "name": "stdout"
        }
      ]
    },
    {
      "metadata": {
        "id": "H4C0GmaKcD_q",
        "colab_type": "code",
        "colab": {
          "base_uri": "https://localhost:8080/",
          "height": 102
        },
        "outputId": "a40a1dca-268e-4f8b-dfbe-6959f2df9659"
      },
      "cell_type": "code",
      "source": [
        "!ls"
      ],
      "execution_count": 27,
      "outputs": [
        {
          "output_type": "stream",
          "text": [
            "odds-week-10.csv  odds-week-15.csv  odds-week-20.csv  odds-week-6.csv\n",
            "odds-week-11.csv  odds-week-16.csv  odds-week-21.csv  odds-week-7.csv\n",
            "odds-week-12.csv  odds-week-17.csv  odds-week-22.csv  odds-week-8.csv\n",
            "odds-week-13.csv  odds-week-18.csv  odds-week-4.csv   odds-week-9.csv\n",
            "odds-week-14.csv  odds-week-19.csv  odds-week-5.csv\n"
          ],
          "name": "stdout"
        }
      ]
    },
    {
      "metadata": {
        "id": "mv-JcxMecJ2F",
        "colab_type": "code",
        "colab": {
          "base_uri": "https://localhost:8080/",
          "height": 34
        },
        "outputId": "39d34e13-be20-48b8-e0b8-87ba6aed21f9"
      },
      "cell_type": "code",
      "source": [
        "pd.read_csv('odds-week-8.csv').shape"
      ],
      "execution_count": 220,
      "outputs": [
        {
          "output_type": "execute_result",
          "data": {
            "text/plain": [
              "(44, 11)"
            ]
          },
          "metadata": {
            "tags": []
          },
          "execution_count": 220
        }
      ]
    },
    {
      "metadata": {
        "id": "_EElDr2PcbPX",
        "colab_type": "code",
        "colab": {}
      },
      "cell_type": "code",
      "source": [
        "import os\n",
        "import glob"
      ],
      "execution_count": 0,
      "outputs": []
    },
    {
      "metadata": {
        "id": "iHLsBeUmdOqT",
        "colab_type": "code",
        "colab": {}
      },
      "cell_type": "code",
      "source": [
        "delimeter = '/*.csv'\n",
        "path = '../odds'\n",
        "all_files = glob.glob(path + delimeter)"
      ],
      "execution_count": 0,
      "outputs": []
    },
    {
      "metadata": {
        "id": "CtXZF_KHdmRW",
        "colab_type": "code",
        "colab": {
          "base_uri": "https://localhost:8080/",
          "height": 341
        },
        "outputId": "012bc764-c75c-4c70-abda-e841a9cb1c80"
      },
      "cell_type": "code",
      "source": [
        "all_files"
      ],
      "execution_count": 44,
      "outputs": [
        {
          "output_type": "execute_result",
          "data": {
            "text/plain": [
              "['../odds/odds-week-21.csv',\n",
              " '../odds/odds-week-17.csv',\n",
              " '../odds/odds-week-8.csv',\n",
              " '../odds/odds-week-16.csv',\n",
              " '../odds/odds-week-19.csv',\n",
              " '../odds/odds-week-10.csv',\n",
              " '../odds/odds-week-5.csv',\n",
              " '../odds/odds-week-22.csv',\n",
              " '../odds/odds-week-4.csv',\n",
              " '../odds/odds-week-13.csv',\n",
              " '../odds/odds-week-11.csv',\n",
              " '../odds/odds-week-9.csv',\n",
              " '../odds/odds-week-7.csv',\n",
              " '../odds/odds-week-12.csv',\n",
              " '../odds/odds-week-15.csv',\n",
              " '../odds/odds-week-18.csv',\n",
              " '../odds/odds-week-14.csv',\n",
              " '../odds/odds-week-6.csv',\n",
              " '../odds/odds-week-20.csv']"
            ]
          },
          "metadata": {
            "tags": []
          },
          "execution_count": 44
        }
      ]
    },
    {
      "metadata": {
        "id": "bJnAu6iQlGyb",
        "colab_type": "code",
        "colab": {}
      },
      "cell_type": "code",
      "source": [
        "weeks_data = 'weeks_data'\n",
        "os.mkdir(weeks_data)"
      ],
      "execution_count": 0,
      "outputs": []
    },
    {
      "metadata": {
        "id": "SoCfERPQlPP5",
        "colab_type": "code",
        "colab": {
          "base_uri": "https://localhost:8080/",
          "height": 102
        },
        "outputId": "765fb7a9-a2d1-40e5-b8c3-47d3b37e77bc"
      },
      "cell_type": "code",
      "source": [
        "!ls"
      ],
      "execution_count": 66,
      "outputs": [
        {
          "output_type": "stream",
          "text": [
            "odds-week-10.csv  odds-week-15.csv  odds-week-20.csv  odds-week-6.csv\n",
            "odds-week-11.csv  odds-week-16.csv  odds-week-21.csv  odds-week-7.csv\n",
            "odds-week-12.csv  odds-week-17.csv  odds-week-22.csv  odds-week-8.csv\n",
            "odds-week-13.csv  odds-week-18.csv  odds-week-4.csv   odds-week-9.csv\n",
            "odds-week-14.csv  odds-week-19.csv  odds-week-5.csv   weeks_data\n"
          ],
          "name": "stdout"
        }
      ]
    },
    {
      "metadata": {
        "id": "4jnXbNu7dyBK",
        "colab_type": "code",
        "colab": {}
      },
      "cell_type": "code",
      "source": [
        "\n",
        "#get the odds in a particular style inorder ro join\n",
        "i=1\n",
        "for file in all_files:\n",
        "\n",
        "    name = os.path.basename(file)\n",
        "    name_ex = os.path.splitext(name)[0]\n",
        "    try:\n",
        "      \n",
        "      df= pd.read_csv(file).T\n",
        "      df['game_week'] = name_ex\n",
        "      df.set_index('game_week', inplace=True)\n",
        "      df.columns = df.iloc[0]\n",
        "      df = df[1:]\n",
        "      df.to_csv('weeks_data/league{}.csv'.format(i))\n",
        "      i=i+1\n",
        "    except:\n",
        "      pass\n",
        "    "
      ],
      "execution_count": 0,
      "outputs": []
    },
    {
      "metadata": {
        "id": "-pvSA-vy9Bsk",
        "colab_type": "code",
        "colab": {
          "base_uri": "https://localhost:8080/",
          "height": 358
        },
        "outputId": "27a9a108-2004-4d46-d9ed-2ddfd618729a"
      },
      "cell_type": "code",
      "source": [
        "df.head()"
      ],
      "execution_count": 245,
      "outputs": [
        {
          "output_type": "execute_result",
          "data": {
            "text/html": [
              "<div>\n",
              "<style scoped>\n",
              "    .dataframe tbody tr th:only-of-type {\n",
              "        vertical-align: middle;\n",
              "    }\n",
              "\n",
              "    .dataframe tbody tr th {\n",
              "        vertical-align: top;\n",
              "    }\n",
              "\n",
              "    .dataframe thead th {\n",
              "        text-align: right;\n",
              "    }\n",
              "</style>\n",
              "<table border=\"1\" class=\"dataframe\">\n",
              "  <thead>\n",
              "    <tr style=\"text-align: right;\">\n",
              "      <th>odds-week-20</th>\n",
              "      <th>Home</th>\n",
              "      <th>Draw</th>\n",
              "      <th>Away</th>\n",
              "      <th>Goal Goal</th>\n",
              "      <th>No Goal</th>\n",
              "      <th>Over 1.5</th>\n",
              "      <th>Under 1.5</th>\n",
              "      <th>1/X</th>\n",
              "      <th>1/2</th>\n",
              "      <th>X/2</th>\n",
              "      <th>...</th>\n",
              "      <th>Home + Over 1.5</th>\n",
              "      <th>Away + Over 2.5</th>\n",
              "      <th>Draw + Over 2.5</th>\n",
              "      <th>Home + Over 2.5</th>\n",
              "      <th>Away + Under 1.5</th>\n",
              "      <th>Draw + Under 1.5</th>\n",
              "      <th>Home + Under 1.5</th>\n",
              "      <th>Away + Under 2.5</th>\n",
              "      <th>Draw + Under 2.5</th>\n",
              "      <th>Home + Under 2.5</th>\n",
              "    </tr>\n",
              "    <tr>\n",
              "      <th>game_week</th>\n",
              "      <th></th>\n",
              "      <th></th>\n",
              "      <th></th>\n",
              "      <th></th>\n",
              "      <th></th>\n",
              "      <th></th>\n",
              "      <th></th>\n",
              "      <th></th>\n",
              "      <th></th>\n",
              "      <th></th>\n",
              "      <th></th>\n",
              "      <th></th>\n",
              "      <th></th>\n",
              "      <th></th>\n",
              "      <th></th>\n",
              "      <th></th>\n",
              "      <th></th>\n",
              "      <th></th>\n",
              "      <th></th>\n",
              "      <th></th>\n",
              "      <th></th>\n",
              "    </tr>\n",
              "  </thead>\n",
              "  <tbody>\n",
              "    <tr>\n",
              "      <th>odds-week-20</th>\n",
              "      <td>1.67</td>\n",
              "      <td>3.65</td>\n",
              "      <td>5.85</td>\n",
              "      <td>1.81</td>\n",
              "      <td>2.03</td>\n",
              "      <td>1.23</td>\n",
              "      <td>4.27</td>\n",
              "      <td>1.14</td>\n",
              "      <td>1.3</td>\n",
              "      <td>2.25</td>\n",
              "      <td>...</td>\n",
              "      <td>2.04</td>\n",
              "      <td>10.3</td>\n",
              "      <td>12.6</td>\n",
              "      <td>2.61</td>\n",
              "      <td>20.3</td>\n",
              "      <td>13.4</td>\n",
              "      <td>9.05</td>\n",
              "      <td>13.5</td>\n",
              "      <td>5.13</td>\n",
              "      <td>4.62</td>\n",
              "    </tr>\n",
              "    <tr>\n",
              "      <th>odds-week-20</th>\n",
              "      <td>2.26</td>\n",
              "      <td>3.06</td>\n",
              "      <td>3.61</td>\n",
              "      <td>1.65</td>\n",
              "      <td>2.28</td>\n",
              "      <td>1.24</td>\n",
              "      <td>4.24</td>\n",
              "      <td>1.3</td>\n",
              "      <td>1.39</td>\n",
              "      <td>1.66</td>\n",
              "      <td>...</td>\n",
              "      <td>2.86</td>\n",
              "      <td>5.92</td>\n",
              "      <td>9.07</td>\n",
              "      <td>3.6</td>\n",
              "      <td>15.4</td>\n",
              "      <td>12.6</td>\n",
              "      <td>10.9</td>\n",
              "      <td>9.27</td>\n",
              "      <td>4.62</td>\n",
              "      <td>6.09</td>\n",
              "    </tr>\n",
              "    <tr>\n",
              "      <th>odds-week-20</th>\n",
              "      <td>3.57</td>\n",
              "      <td>3</td>\n",
              "      <td>2.32</td>\n",
              "      <td>1.71</td>\n",
              "      <td>2.17</td>\n",
              "      <td>1.27</td>\n",
              "      <td>3.87</td>\n",
              "      <td>1.63</td>\n",
              "      <td>1.4</td>\n",
              "      <td>1.31</td>\n",
              "      <td>...</td>\n",
              "      <td>4.78</td>\n",
              "      <td>3.84</td>\n",
              "      <td>9.82</td>\n",
              "      <td>6.08</td>\n",
              "      <td>10.2</td>\n",
              "      <td>11.2</td>\n",
              "      <td>14</td>\n",
              "      <td>5.84</td>\n",
              "      <td>4.32</td>\n",
              "      <td>8.63</td>\n",
              "    </tr>\n",
              "    <tr>\n",
              "      <th>odds-week-20</th>\n",
              "      <td>1.78</td>\n",
              "      <td>3.46</td>\n",
              "      <td>5.18</td>\n",
              "      <td>2.03</td>\n",
              "      <td>1.81</td>\n",
              "      <td>1.35</td>\n",
              "      <td>3.31</td>\n",
              "      <td>1.17</td>\n",
              "      <td>1.32</td>\n",
              "      <td>2.07</td>\n",
              "      <td>...</td>\n",
              "      <td>2.32</td>\n",
              "      <td>10.3</td>\n",
              "      <td>16.7</td>\n",
              "      <td>3.12</td>\n",
              "      <td>15.1</td>\n",
              "      <td>9.61</td>\n",
              "      <td>7.59</td>\n",
              "      <td>10.4</td>\n",
              "      <td>4.36</td>\n",
              "      <td>4.13</td>\n",
              "    </tr>\n",
              "    <tr>\n",
              "      <th>odds-week-20</th>\n",
              "      <td>2.17</td>\n",
              "      <td>3.11</td>\n",
              "      <td>3.81</td>\n",
              "      <td>1.7</td>\n",
              "      <td>2.2</td>\n",
              "      <td>1.25</td>\n",
              "      <td>4.04</td>\n",
              "      <td>1.28</td>\n",
              "      <td>1.38</td>\n",
              "      <td>1.71</td>\n",
              "      <td>...</td>\n",
              "      <td>2.75</td>\n",
              "      <td>6.45</td>\n",
              "      <td>9.96</td>\n",
              "      <td>3.5</td>\n",
              "      <td>15.2</td>\n",
              "      <td>11.9</td>\n",
              "      <td>10.2</td>\n",
              "      <td>9.34</td>\n",
              "      <td>4.53</td>\n",
              "      <td>5.69</td>\n",
              "    </tr>\n",
              "  </tbody>\n",
              "</table>\n",
              "<p>5 rows × 44 columns</p>\n",
              "</div>"
            ],
            "text/plain": [
              "odds-week-20  Home  Draw  Away Goal Goal No Goal Over 1.5 Under 1.5   1/X  \\\n",
              "game_week                                                                   \n",
              "odds-week-20  1.67  3.65  5.85      1.81    2.03     1.23      4.27  1.14   \n",
              "odds-week-20  2.26  3.06  3.61      1.65    2.28     1.24      4.24   1.3   \n",
              "odds-week-20  3.57     3  2.32      1.71    2.17     1.27      3.87  1.63   \n",
              "odds-week-20  1.78  3.46  5.18      2.03    1.81     1.35      3.31  1.17   \n",
              "odds-week-20  2.17  3.11  3.81       1.7     2.2     1.25      4.04  1.28   \n",
              "\n",
              "odds-week-20   1/2   X/2  ... Home + Over 1.5 Away + Over 2.5 Draw + Over 2.5  \\\n",
              "game_week                 ...                                                   \n",
              "odds-week-20   1.3  2.25  ...            2.04            10.3            12.6   \n",
              "odds-week-20  1.39  1.66  ...            2.86            5.92            9.07   \n",
              "odds-week-20   1.4  1.31  ...            4.78            3.84            9.82   \n",
              "odds-week-20  1.32  2.07  ...            2.32            10.3            16.7   \n",
              "odds-week-20  1.38  1.71  ...            2.75            6.45            9.96   \n",
              "\n",
              "odds-week-20 Home + Over 2.5 Away + Under 1.5 Draw + Under 1.5  \\\n",
              "game_week                                                        \n",
              "odds-week-20            2.61             20.3             13.4   \n",
              "odds-week-20             3.6             15.4             12.6   \n",
              "odds-week-20            6.08             10.2             11.2   \n",
              "odds-week-20            3.12             15.1             9.61   \n",
              "odds-week-20             3.5             15.2             11.9   \n",
              "\n",
              "odds-week-20 Home + Under 1.5 Away + Under 2.5 Draw + Under 2.5  \\\n",
              "game_week                                                         \n",
              "odds-week-20             9.05             13.5             5.13   \n",
              "odds-week-20             10.9             9.27             4.62   \n",
              "odds-week-20               14             5.84             4.32   \n",
              "odds-week-20             7.59             10.4             4.36   \n",
              "odds-week-20             10.2             9.34             4.53   \n",
              "\n",
              "odds-week-20 Home + Under 2.5  \n",
              "game_week                      \n",
              "odds-week-20             4.62  \n",
              "odds-week-20             6.09  \n",
              "odds-week-20             8.63  \n",
              "odds-week-20             4.13  \n",
              "odds-week-20             5.69  \n",
              "\n",
              "[5 rows x 44 columns]"
            ]
          },
          "metadata": {
            "tags": []
          },
          "execution_count": 245
        }
      ]
    },
    {
      "metadata": {
        "id": "yBv0e6meuuQP",
        "colab_type": "code",
        "colab": {
          "base_uri": "https://localhost:8080/",
          "height": 34
        },
        "outputId": "e8088e22-001e-4df0-e308-d42f7ab8845b"
      },
      "cell_type": "code",
      "source": [
        "%cd weeks_data/"
      ],
      "execution_count": 137,
      "outputs": [
        {
          "output_type": "stream",
          "text": [
            "/content/betin_league/odds/weeks_data\n"
          ],
          "name": "stdout"
        }
      ]
    },
    {
      "metadata": {
        "id": "1iIpe8v1ux08",
        "colab_type": "code",
        "colab": {
          "base_uri": "https://localhost:8080/",
          "height": 85
        },
        "outputId": "55b7ee01-d5a6-426f-d6b8-bff59614fab4"
      },
      "cell_type": "code",
      "source": [
        "!ls"
      ],
      "execution_count": 138,
      "outputs": [
        {
          "output_type": "stream",
          "text": [
            "league1       league13.csv  league17.csv  league2.csv  league6.csv\n",
            "league10.csv  league14.csv  league18.csv  league3.csv  league7.csv\n",
            "league11.csv  league15.csv  league19.csv  league4.csv  league8.csv\n",
            "league12.csv  league16.csv  league1.csv   league5.csv  league9.csv\n"
          ],
          "name": "stdout"
        }
      ]
    },
    {
      "metadata": {
        "id": "hqMZiPswvSdz",
        "colab_type": "code",
        "colab": {
          "base_uri": "https://localhost:8080/",
          "height": 34
        },
        "outputId": "2cd3c1ea-a18e-482a-ba70-0ffb4544c3d5"
      },
      "cell_type": "code",
      "source": [
        "%cd .."
      ],
      "execution_count": 141,
      "outputs": [
        {
          "output_type": "stream",
          "text": [
            "/content/betin_league/odds\n"
          ],
          "name": "stdout"
        }
      ]
    },
    {
      "metadata": {
        "id": "0OuIg7bDrvmL",
        "colab_type": "code",
        "colab": {}
      },
      "cell_type": "code",
      "source": [
        "#Join the dataframes from different weeks\n",
        "weeks_odds_path = '/content/betin_league/odds/weeks_data'\n",
        "delimeter = '/*.csv'\n",
        "file_weeks = glob.glob(weeks_odds_path + delimeter)\n",
        "df_from_each_file = (pd.read_csv(f) for f in file_weeks)\n",
        "df_joined = pd.concat(df_from_each_file,ignore_index=False,sort=False)"
      ],
      "execution_count": 0,
      "outputs": []
    },
    {
      "metadata": {
        "id": "BNZR24bX0s7c",
        "colab_type": "code",
        "colab": {
          "base_uri": "https://localhost:8080/",
          "height": 328
        },
        "outputId": "4ad954be-1b83-4a27-ab3f-68d1438d525d"
      },
      "cell_type": "code",
      "source": [
        "df_joined.head()"
      ],
      "execution_count": 248,
      "outputs": [
        {
          "output_type": "execute_result",
          "data": {
            "text/html": [
              "<div>\n",
              "<style scoped>\n",
              "    .dataframe tbody tr th:only-of-type {\n",
              "        vertical-align: middle;\n",
              "    }\n",
              "\n",
              "    .dataframe tbody tr th {\n",
              "        vertical-align: top;\n",
              "    }\n",
              "\n",
              "    .dataframe thead th {\n",
              "        text-align: right;\n",
              "    }\n",
              "</style>\n",
              "<table border=\"1\" class=\"dataframe\">\n",
              "  <thead>\n",
              "    <tr style=\"text-align: right;\">\n",
              "      <th></th>\n",
              "      <th>game_week</th>\n",
              "      <th>Home</th>\n",
              "      <th>Draw</th>\n",
              "      <th>Away</th>\n",
              "      <th>Goal Goal</th>\n",
              "      <th>No Goal</th>\n",
              "      <th>Over 1.5</th>\n",
              "      <th>Under 1.5</th>\n",
              "      <th>1/X</th>\n",
              "      <th>1/2</th>\n",
              "      <th>...</th>\n",
              "      <th>Home + Over 1.5</th>\n",
              "      <th>Away + Over 2.5</th>\n",
              "      <th>Draw + Over 2.5</th>\n",
              "      <th>Home + Over 2.5</th>\n",
              "      <th>Away + Under 1.5</th>\n",
              "      <th>Draw + Under 1.5</th>\n",
              "      <th>Home + Under 1.5</th>\n",
              "      <th>Away + Under 2.5</th>\n",
              "      <th>Draw + Under 2.5</th>\n",
              "      <th>Home + Under 2.5</th>\n",
              "    </tr>\n",
              "  </thead>\n",
              "  <tbody>\n",
              "    <tr>\n",
              "      <th>0</th>\n",
              "      <td>odds-week-10</td>\n",
              "      <td>4.90</td>\n",
              "      <td>3.36</td>\n",
              "      <td>1.84</td>\n",
              "      <td>1.71</td>\n",
              "      <td>2.17</td>\n",
              "      <td>1.23</td>\n",
              "      <td>4.34</td>\n",
              "      <td>1.99</td>\n",
              "      <td>1.34</td>\n",
              "      <td>...</td>\n",
              "      <td>6.61</td>\n",
              "      <td>2.83</td>\n",
              "      <td>10.60</td>\n",
              "      <td>8.20</td>\n",
              "      <td>10.20</td>\n",
              "      <td>12.6</td>\n",
              "      <td>19.0</td>\n",
              "      <td>5.27</td>\n",
              "      <td>4.91</td>\n",
              "      <td>12.20</td>\n",
              "    </tr>\n",
              "    <tr>\n",
              "      <th>1</th>\n",
              "      <td>odds-week-10</td>\n",
              "      <td>5.87</td>\n",
              "      <td>3.76</td>\n",
              "      <td>1.64</td>\n",
              "      <td>1.84</td>\n",
              "      <td>1.99</td>\n",
              "      <td>1.24</td>\n",
              "      <td>4.19</td>\n",
              "      <td>2.29</td>\n",
              "      <td>1.28</td>\n",
              "      <td>...</td>\n",
              "      <td>8.23</td>\n",
              "      <td>2.52</td>\n",
              "      <td>14.00</td>\n",
              "      <td>10.20</td>\n",
              "      <td>9.44</td>\n",
              "      <td>11.9</td>\n",
              "      <td>20.5</td>\n",
              "      <td>4.72</td>\n",
              "      <td>5.14</td>\n",
              "      <td>13.80</td>\n",
              "    </tr>\n",
              "    <tr>\n",
              "      <th>2</th>\n",
              "      <td>odds-week-10</td>\n",
              "      <td>2.17</td>\n",
              "      <td>3.11</td>\n",
              "      <td>3.81</td>\n",
              "      <td>1.70</td>\n",
              "      <td>2.20</td>\n",
              "      <td>1.25</td>\n",
              "      <td>4.04</td>\n",
              "      <td>1.28</td>\n",
              "      <td>1.38</td>\n",
              "      <td>...</td>\n",
              "      <td>2.75</td>\n",
              "      <td>6.45</td>\n",
              "      <td>9.96</td>\n",
              "      <td>3.50</td>\n",
              "      <td>15.20</td>\n",
              "      <td>11.9</td>\n",
              "      <td>10.2</td>\n",
              "      <td>9.34</td>\n",
              "      <td>4.53</td>\n",
              "      <td>5.69</td>\n",
              "    </tr>\n",
              "    <tr>\n",
              "      <th>3</th>\n",
              "      <td>odds-week-10</td>\n",
              "      <td>3.73</td>\n",
              "      <td>3.09</td>\n",
              "      <td>2.21</td>\n",
              "      <td>1.68</td>\n",
              "      <td>2.22</td>\n",
              "      <td>1.25</td>\n",
              "      <td>4.12</td>\n",
              "      <td>1.69</td>\n",
              "      <td>1.39</td>\n",
              "      <td>...</td>\n",
              "      <td>4.95</td>\n",
              "      <td>3.57</td>\n",
              "      <td>9.66</td>\n",
              "      <td>6.26</td>\n",
              "      <td>10.40</td>\n",
              "      <td>12.5</td>\n",
              "      <td>15.1</td>\n",
              "      <td>5.76</td>\n",
              "      <td>4.55</td>\n",
              "      <td>9.20</td>\n",
              "    </tr>\n",
              "    <tr>\n",
              "      <th>4</th>\n",
              "      <td>odds-week-10</td>\n",
              "      <td>2.17</td>\n",
              "      <td>3.11</td>\n",
              "      <td>3.81</td>\n",
              "      <td>1.70</td>\n",
              "      <td>2.20</td>\n",
              "      <td>1.25</td>\n",
              "      <td>4.04</td>\n",
              "      <td>1.28</td>\n",
              "      <td>1.38</td>\n",
              "      <td>...</td>\n",
              "      <td>2.75</td>\n",
              "      <td>6.45</td>\n",
              "      <td>9.96</td>\n",
              "      <td>3.50</td>\n",
              "      <td>15.20</td>\n",
              "      <td>11.9</td>\n",
              "      <td>10.2</td>\n",
              "      <td>9.34</td>\n",
              "      <td>4.53</td>\n",
              "      <td>5.69</td>\n",
              "    </tr>\n",
              "  </tbody>\n",
              "</table>\n",
              "<p>5 rows × 45 columns</p>\n",
              "</div>"
            ],
            "text/plain": [
              "      game_week  Home  Draw  Away  Goal Goal  No Goal  Over 1.5  Under 1.5  \\\n",
              "0  odds-week-10  4.90  3.36  1.84       1.71     2.17      1.23       4.34   \n",
              "1  odds-week-10  5.87  3.76  1.64       1.84     1.99      1.24       4.19   \n",
              "2  odds-week-10  2.17  3.11  3.81       1.70     2.20      1.25       4.04   \n",
              "3  odds-week-10  3.73  3.09  2.21       1.68     2.22      1.25       4.12   \n",
              "4  odds-week-10  2.17  3.11  3.81       1.70     2.20      1.25       4.04   \n",
              "\n",
              "    1/X   1/2  ...  Home + Over 1.5  Away + Over 2.5  Draw + Over 2.5  \\\n",
              "0  1.99  1.34  ...             6.61             2.83            10.60   \n",
              "1  2.29  1.28  ...             8.23             2.52            14.00   \n",
              "2  1.28  1.38  ...             2.75             6.45             9.96   \n",
              "3  1.69  1.39  ...             4.95             3.57             9.66   \n",
              "4  1.28  1.38  ...             2.75             6.45             9.96   \n",
              "\n",
              "   Home + Over 2.5  Away + Under 1.5  Draw + Under 1.5  Home + Under 1.5  \\\n",
              "0             8.20             10.20              12.6              19.0   \n",
              "1            10.20              9.44              11.9              20.5   \n",
              "2             3.50             15.20              11.9              10.2   \n",
              "3             6.26             10.40              12.5              15.1   \n",
              "4             3.50             15.20              11.9              10.2   \n",
              "\n",
              "   Away + Under 2.5  Draw + Under 2.5  Home + Under 2.5  \n",
              "0              5.27              4.91             12.20  \n",
              "1              4.72              5.14             13.80  \n",
              "2              9.34              4.53              5.69  \n",
              "3              5.76              4.55              9.20  \n",
              "4              9.34              4.53              5.69  \n",
              "\n",
              "[5 rows x 45 columns]"
            ]
          },
          "metadata": {
            "tags": []
          },
          "execution_count": 248
        }
      ]
    },
    {
      "metadata": {
        "id": "z1zVEgdTgHx2",
        "colab_type": "code",
        "colab": {}
      },
      "cell_type": "code",
      "source": [
        "df_joined.set_index('game_week', inplace=True)"
      ],
      "execution_count": 0,
      "outputs": []
    },
    {
      "metadata": {
        "id": "GeYX3JzMDwrq",
        "colab_type": "code",
        "colab": {
          "base_uri": "https://localhost:8080/",
          "height": 358
        },
        "outputId": "2d3acec0-ed42-4bdf-dd78-60f75c8cf1a9"
      },
      "cell_type": "code",
      "source": [
        "df_joined.head()"
      ],
      "execution_count": 250,
      "outputs": [
        {
          "output_type": "execute_result",
          "data": {
            "text/html": [
              "<div>\n",
              "<style scoped>\n",
              "    .dataframe tbody tr th:only-of-type {\n",
              "        vertical-align: middle;\n",
              "    }\n",
              "\n",
              "    .dataframe tbody tr th {\n",
              "        vertical-align: top;\n",
              "    }\n",
              "\n",
              "    .dataframe thead th {\n",
              "        text-align: right;\n",
              "    }\n",
              "</style>\n",
              "<table border=\"1\" class=\"dataframe\">\n",
              "  <thead>\n",
              "    <tr style=\"text-align: right;\">\n",
              "      <th></th>\n",
              "      <th>Home</th>\n",
              "      <th>Draw</th>\n",
              "      <th>Away</th>\n",
              "      <th>Goal Goal</th>\n",
              "      <th>No Goal</th>\n",
              "      <th>Over 1.5</th>\n",
              "      <th>Under 1.5</th>\n",
              "      <th>1/X</th>\n",
              "      <th>1/2</th>\n",
              "      <th>X/2</th>\n",
              "      <th>...</th>\n",
              "      <th>Home + Over 1.5</th>\n",
              "      <th>Away + Over 2.5</th>\n",
              "      <th>Draw + Over 2.5</th>\n",
              "      <th>Home + Over 2.5</th>\n",
              "      <th>Away + Under 1.5</th>\n",
              "      <th>Draw + Under 1.5</th>\n",
              "      <th>Home + Under 1.5</th>\n",
              "      <th>Away + Under 2.5</th>\n",
              "      <th>Draw + Under 2.5</th>\n",
              "      <th>Home + Under 2.5</th>\n",
              "    </tr>\n",
              "    <tr>\n",
              "      <th>game_week</th>\n",
              "      <th></th>\n",
              "      <th></th>\n",
              "      <th></th>\n",
              "      <th></th>\n",
              "      <th></th>\n",
              "      <th></th>\n",
              "      <th></th>\n",
              "      <th></th>\n",
              "      <th></th>\n",
              "      <th></th>\n",
              "      <th></th>\n",
              "      <th></th>\n",
              "      <th></th>\n",
              "      <th></th>\n",
              "      <th></th>\n",
              "      <th></th>\n",
              "      <th></th>\n",
              "      <th></th>\n",
              "      <th></th>\n",
              "      <th></th>\n",
              "      <th></th>\n",
              "    </tr>\n",
              "  </thead>\n",
              "  <tbody>\n",
              "    <tr>\n",
              "      <th>odds-week-10</th>\n",
              "      <td>4.90</td>\n",
              "      <td>3.36</td>\n",
              "      <td>1.84</td>\n",
              "      <td>1.71</td>\n",
              "      <td>2.17</td>\n",
              "      <td>1.23</td>\n",
              "      <td>4.34</td>\n",
              "      <td>1.99</td>\n",
              "      <td>1.34</td>\n",
              "      <td>1.19</td>\n",
              "      <td>...</td>\n",
              "      <td>6.61</td>\n",
              "      <td>2.83</td>\n",
              "      <td>10.60</td>\n",
              "      <td>8.20</td>\n",
              "      <td>10.20</td>\n",
              "      <td>12.6</td>\n",
              "      <td>19.0</td>\n",
              "      <td>5.27</td>\n",
              "      <td>4.91</td>\n",
              "      <td>12.20</td>\n",
              "    </tr>\n",
              "    <tr>\n",
              "      <th>odds-week-10</th>\n",
              "      <td>5.87</td>\n",
              "      <td>3.76</td>\n",
              "      <td>1.64</td>\n",
              "      <td>1.84</td>\n",
              "      <td>1.99</td>\n",
              "      <td>1.24</td>\n",
              "      <td>4.19</td>\n",
              "      <td>2.29</td>\n",
              "      <td>1.28</td>\n",
              "      <td>1.14</td>\n",
              "      <td>...</td>\n",
              "      <td>8.23</td>\n",
              "      <td>2.52</td>\n",
              "      <td>14.00</td>\n",
              "      <td>10.20</td>\n",
              "      <td>9.44</td>\n",
              "      <td>11.9</td>\n",
              "      <td>20.5</td>\n",
              "      <td>4.72</td>\n",
              "      <td>5.14</td>\n",
              "      <td>13.80</td>\n",
              "    </tr>\n",
              "    <tr>\n",
              "      <th>odds-week-10</th>\n",
              "      <td>2.17</td>\n",
              "      <td>3.11</td>\n",
              "      <td>3.81</td>\n",
              "      <td>1.70</td>\n",
              "      <td>2.20</td>\n",
              "      <td>1.25</td>\n",
              "      <td>4.04</td>\n",
              "      <td>1.28</td>\n",
              "      <td>1.38</td>\n",
              "      <td>1.71</td>\n",
              "      <td>...</td>\n",
              "      <td>2.75</td>\n",
              "      <td>6.45</td>\n",
              "      <td>9.96</td>\n",
              "      <td>3.50</td>\n",
              "      <td>15.20</td>\n",
              "      <td>11.9</td>\n",
              "      <td>10.2</td>\n",
              "      <td>9.34</td>\n",
              "      <td>4.53</td>\n",
              "      <td>5.69</td>\n",
              "    </tr>\n",
              "    <tr>\n",
              "      <th>odds-week-10</th>\n",
              "      <td>3.73</td>\n",
              "      <td>3.09</td>\n",
              "      <td>2.21</td>\n",
              "      <td>1.68</td>\n",
              "      <td>2.22</td>\n",
              "      <td>1.25</td>\n",
              "      <td>4.12</td>\n",
              "      <td>1.69</td>\n",
              "      <td>1.39</td>\n",
              "      <td>1.29</td>\n",
              "      <td>...</td>\n",
              "      <td>4.95</td>\n",
              "      <td>3.57</td>\n",
              "      <td>9.66</td>\n",
              "      <td>6.26</td>\n",
              "      <td>10.40</td>\n",
              "      <td>12.5</td>\n",
              "      <td>15.1</td>\n",
              "      <td>5.76</td>\n",
              "      <td>4.55</td>\n",
              "      <td>9.20</td>\n",
              "    </tr>\n",
              "    <tr>\n",
              "      <th>odds-week-10</th>\n",
              "      <td>2.17</td>\n",
              "      <td>3.11</td>\n",
              "      <td>3.81</td>\n",
              "      <td>1.70</td>\n",
              "      <td>2.20</td>\n",
              "      <td>1.25</td>\n",
              "      <td>4.04</td>\n",
              "      <td>1.28</td>\n",
              "      <td>1.38</td>\n",
              "      <td>1.71</td>\n",
              "      <td>...</td>\n",
              "      <td>2.75</td>\n",
              "      <td>6.45</td>\n",
              "      <td>9.96</td>\n",
              "      <td>3.50</td>\n",
              "      <td>15.20</td>\n",
              "      <td>11.9</td>\n",
              "      <td>10.2</td>\n",
              "      <td>9.34</td>\n",
              "      <td>4.53</td>\n",
              "      <td>5.69</td>\n",
              "    </tr>\n",
              "  </tbody>\n",
              "</table>\n",
              "<p>5 rows × 44 columns</p>\n",
              "</div>"
            ],
            "text/plain": [
              "              Home  Draw  Away  Goal Goal  No Goal  Over 1.5  Under 1.5   1/X  \\\n",
              "game_week                                                                       \n",
              "odds-week-10  4.90  3.36  1.84       1.71     2.17      1.23       4.34  1.99   \n",
              "odds-week-10  5.87  3.76  1.64       1.84     1.99      1.24       4.19  2.29   \n",
              "odds-week-10  2.17  3.11  3.81       1.70     2.20      1.25       4.04  1.28   \n",
              "odds-week-10  3.73  3.09  2.21       1.68     2.22      1.25       4.12  1.69   \n",
              "odds-week-10  2.17  3.11  3.81       1.70     2.20      1.25       4.04  1.28   \n",
              "\n",
              "               1/2   X/2  ...  Home + Over 1.5  Away + Over 2.5  \\\n",
              "game_week                 ...                                     \n",
              "odds-week-10  1.34  1.19  ...             6.61             2.83   \n",
              "odds-week-10  1.28  1.14  ...             8.23             2.52   \n",
              "odds-week-10  1.38  1.71  ...             2.75             6.45   \n",
              "odds-week-10  1.39  1.29  ...             4.95             3.57   \n",
              "odds-week-10  1.38  1.71  ...             2.75             6.45   \n",
              "\n",
              "              Draw + Over 2.5  Home + Over 2.5  Away + Under 1.5  \\\n",
              "game_week                                                          \n",
              "odds-week-10            10.60             8.20             10.20   \n",
              "odds-week-10            14.00            10.20              9.44   \n",
              "odds-week-10             9.96             3.50             15.20   \n",
              "odds-week-10             9.66             6.26             10.40   \n",
              "odds-week-10             9.96             3.50             15.20   \n",
              "\n",
              "              Draw + Under 1.5  Home + Under 1.5  Away + Under 2.5  \\\n",
              "game_week                                                            \n",
              "odds-week-10              12.6              19.0              5.27   \n",
              "odds-week-10              11.9              20.5              4.72   \n",
              "odds-week-10              11.9              10.2              9.34   \n",
              "odds-week-10              12.5              15.1              5.76   \n",
              "odds-week-10              11.9              10.2              9.34   \n",
              "\n",
              "              Draw + Under 2.5  Home + Under 2.5  \n",
              "game_week                                         \n",
              "odds-week-10              4.91             12.20  \n",
              "odds-week-10              5.14             13.80  \n",
              "odds-week-10              4.53              5.69  \n",
              "odds-week-10              4.55              9.20  \n",
              "odds-week-10              4.53              5.69  \n",
              "\n",
              "[5 rows x 44 columns]"
            ]
          },
          "metadata": {
            "tags": []
          },
          "execution_count": 250
        }
      ]
    },
    {
      "metadata": {
        "id": "qD3VX6KzDyoe",
        "colab_type": "code",
        "colab": {}
      },
      "cell_type": "code",
      "source": [
        ""
      ],
      "execution_count": 0,
      "outputs": []
    }
  ]
}